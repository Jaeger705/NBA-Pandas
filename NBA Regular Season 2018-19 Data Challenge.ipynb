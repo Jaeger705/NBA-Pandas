{
 "cells": [
  {
   "cell_type": "markdown",
   "metadata": {},
   "source": [
    "# Nba Regular Season 2018-19 Data Challenge\n",
    "\n",
    "Your task will be to take the dataset given, and create an analysis answering the following 10 questions. This project will again test your knowledge of pandas in order to find the answers needed given the data you are presented with."
   ]
  },
  {
   "cell_type": "markdown",
   "metadata": {},
   "source": [
    "# What was the average age of player in the league?"
   ]
  },
  {
   "cell_type": "code",
   "execution_count": 27,
   "metadata": {},
   "outputs": [
    {
     "name": "stdout",
     "output_type": "stream",
     "text": [
      "The average age of player is 25.9\n"
     ]
    }
   ],
   "source": [
    "import pandas as pd\n",
    "\n",
    "# Load the Excel file\n",
    "\n",
    "nba = pd.read_excel(r'C:\\Users\\bigbo\\CodingTemple\\Python\\NBA\\nbastats2018-2019.xlsx')\n",
    "\n",
    "# Calculate the average age of players in the league\n",
    "average_age = nba['Age'].mean()\n",
    "\n",
    "print(f'The average age of player is {average_age:.1f}')\n"
   ]
  },
  {
   "cell_type": "markdown",
   "metadata": {},
   "source": [
    "What player scored the most points?"
   ]
  },
  {
   "cell_type": "code",
   "execution_count": 28,
   "metadata": {},
   "outputs": [
    {
     "name": "stdout",
     "output_type": "stream",
     "text": [
      "Name           James Harden\n",
      "Height                   77\n",
      "Weight                  220\n",
      "Team        Houston Rockets\n",
      "Age                      29\n",
      "Salary             30431854\n",
      "Points                 36.1\n",
      "Blocks                  0.7\n",
      "Steals                  2.0\n",
      "Assists                 7.5\n",
      "Rebounds                6.6\n",
      "FT%                   0.879\n",
      "FTA                    11.0\n",
      "FG3%                  0.368\n",
      "FG3A                   13.2\n",
      "FG%                   0.442\n",
      "FGA                    24.5\n",
      "MP                     36.8\n",
      "G                        78\n",
      "PER                    30.6\n",
      "OWS                    11.4\n",
      "DWS                     3.8\n",
      "WS                     15.2\n",
      "WS48                  0.254\n",
      "USG                    40.5\n",
      "BPM                    11.7\n",
      "VORP                    9.9\n",
      "Name: 202, dtype: object\n"
     ]
    }
   ],
   "source": [
    "# James Harden\n",
    "# Find the player with the most points\n",
    "player_most_points = nba.loc[nba['Points'].idxmax()]\n",
    "\n",
    "# Display the details of the player with the most points\n",
    "print(player_most_points)\n"
   ]
  },
  {
   "cell_type": "markdown",
   "metadata": {},
   "source": [
    "# What player had the most blocks during the season? Was it a post player (F/C)?"
   ]
  },
  {
   "cell_type": "code",
   "execution_count": 29,
   "metadata": {},
   "outputs": [
    {
     "data": {
      "text/plain": [
       "'Myles Turner'"
      ]
     },
     "execution_count": 29,
     "metadata": {},
     "output_type": "execute_result"
    }
   ],
   "source": [
    "#Myles Turner I'm unable to find out if he's a post player with the data alone, but with a google search I was able to find out he is a post player\n",
    "# Find the player with the most blocks\n",
    "player_most_blocks = nba.loc[nba['Blocks'].idxmax()]\n",
    "\n",
    "player_most_blocks['Name']\n"
   ]
  },
  {
   "cell_type": "markdown",
   "metadata": {},
   "source": [
    "# Based on the regular season, who had the best chance to win a title given their win percentage?"
   ]
  },
  {
   "cell_type": "code",
   "execution_count": 37,
   "metadata": {},
   "outputs": [
    {
     "data": {
      "text/plain": [
       "Name           James Harden\n",
       "Height                   77\n",
       "Weight                  220\n",
       "Team        Houston Rockets\n",
       "Age                      29\n",
       "Salary           30431854.0\n",
       "Points                 36.1\n",
       "Blocks                  0.7\n",
       "Steals                  2.0\n",
       "Assists                 7.5\n",
       "Rebounds                6.6\n",
       "FT%                   0.879\n",
       "FTA                    11.0\n",
       "FG3%                  0.368\n",
       "FG3A                   13.2\n",
       "FG%                   0.442\n",
       "FGA                    24.5\n",
       "MP                     36.8\n",
       "G                        78\n",
       "PER                    30.6\n",
       "OWS                    11.4\n",
       "DWS                     3.8\n",
       "WS                     15.2\n",
       "WS48                  0.254\n",
       "USG                    40.5\n",
       "BPM                    11.7\n",
       "VORP                    9.9\n",
       "Name: 202, dtype: object"
      ]
     },
     "execution_count": 37,
     "metadata": {},
     "output_type": "execute_result"
    }
   ],
   "source": [
    "#James Harden\n",
    "win_perc = nba.loc[nba['WS'].idxmax()]\n",
    "\n",
    "win_perc"
   ]
  },
  {
   "cell_type": "markdown",
   "metadata": {},
   "source": [
    "# What player had the best 3-pt percentage? "
   ]
  },
  {
   "cell_type": "code",
   "execution_count": 30,
   "metadata": {},
   "outputs": [
    {
     "data": {
      "text/plain": [
       "312    Scott Machado\n",
       "Name: Name, dtype: object"
      ]
     },
     "execution_count": 30,
     "metadata": {},
     "output_type": "execute_result"
    }
   ],
   "source": [
    "#Scott Machado\n",
    "\n",
    "best_3pt_shooter_direct = nba.sort_values(by='FG3%', ascending=False).head(1)\n",
    "\n",
    "best_3pt_shooter_direct['Name']\n",
    "\n",
    "\n"
   ]
  },
  {
   "cell_type": "markdown",
   "metadata": {},
   "source": [
    "# Who played the most minutes during the season"
   ]
  },
  {
   "cell_type": "code",
   "execution_count": 31,
   "metadata": {},
   "outputs": [
    {
     "data": {
      "text/plain": [
       "('Bradley Beal', 36.9)"
      ]
     },
     "execution_count": 31,
     "metadata": {},
     "output_type": "execute_result"
    }
   ],
   "source": [
    "#Bradley Beal\n",
    "player_most_minutes = nba.loc[nba['MP'].idxmax()]\n",
    "\n",
    "player_name = player_most_minutes['Name']\n",
    "most_minutes = player_most_minutes['MP']\n",
    "\n",
    "player_name, most_minutes\n"
   ]
  },
  {
   "cell_type": "markdown",
   "metadata": {},
   "source": [
    "# What player given their player effiecency rating was the clutchest during the season?"
   ]
  },
  {
   "cell_type": "code",
   "execution_count": 32,
   "metadata": {},
   "outputs": [
    {
     "data": {
      "text/plain": [
       "('Zhou Qi', 80.4)"
      ]
     },
     "execution_count": 32,
     "metadata": {},
     "output_type": "execute_result"
    }
   ],
   "source": [
    "#Zhou Qi\n",
    "highest_per_player = nba.loc[nba['PER'].idxmax()]\n",
    "\n",
    "player_name_per = highest_per_player['Name']\n",
    "highest_per = highest_per_player['PER']\n",
    "\n",
    "player_name_per, highest_per\n"
   ]
  },
  {
   "cell_type": "markdown",
   "metadata": {},
   "source": [
    "# What team had the youngest roster?"
   ]
  },
  {
   "cell_type": "code",
   "execution_count": 33,
   "metadata": {},
   "outputs": [
    {
     "data": {
      "text/plain": [
       "('Chicago Bulls', 24.3125)"
      ]
     },
     "execution_count": 33,
     "metadata": {},
     "output_type": "execute_result"
    }
   ],
   "source": [
    "#Chicago Bulls\n",
    "# Calculate the average age of players for each team\n",
    "average_age_by_team = nba.groupby('Team')['Age'].mean()\n",
    "\n",
    "# Find the team with the lowest average age\n",
    "youngest_team = average_age_by_team.idxmin()\n",
    "youngest_team_average_age = average_age_by_team.min()\n",
    "\n",
    "youngest_team, youngest_team_average_age\n"
   ]
  },
  {
   "cell_type": "markdown",
   "metadata": {},
   "source": [
    "# Who is the highest paid player during the seasion?"
   ]
  },
  {
   "cell_type": "code",
   "execution_count": 34,
   "metadata": {},
   "outputs": [
    {
     "data": {
      "text/plain": [
       "('Stephen Curry', 37457154.0)"
      ]
     },
     "execution_count": 34,
     "metadata": {},
     "output_type": "execute_result"
    }
   ],
   "source": [
    "#Stephen Curry\n",
    "# Ensure the 'Salary' column is numeric, converting any non-numeric values to NaN\n",
    "nba['Salary'] = pd.to_numeric(nba['Salary'], errors='coerce')\n",
    "\n",
    "# Now try to find the highest paid player again\n",
    "highest_paid_player = nba.loc[nba['Salary'].idxmax()]\n",
    "\n",
    "player_name_salary = highest_paid_player['Name']\n",
    "highest_salary = highest_paid_player['Salary']\n",
    "\n",
    "player_name_salary, highest_salary\n",
    "\n",
    "\n"
   ]
  },
  {
   "cell_type": "markdown",
   "metadata": {},
   "source": [
    "# At the end of a game, who WOULDN'T you want on the Free Throw Line?"
   ]
  },
  {
   "cell_type": "code",
   "execution_count": 35,
   "metadata": {},
   "outputs": [
    {
     "data": {
      "text/plain": [
       "('Jacob Evans', 0.0, 0.0)"
      ]
     },
     "execution_count": 35,
     "metadata": {},
     "output_type": "execute_result"
    }
   ],
   "source": [
    "#Jacob Evans\n",
    "worst_ft_shooter_direct = nba.loc[nba['FT%'].idxmin()]\n",
    "\n",
    "player_name_worst_ft_direct = worst_ft_shooter_direct['Name']\n",
    "worst_ft_percentage_direct = worst_ft_shooter_direct['FT%']\n",
    "ft_attempts_direct = worst_ft_shooter_direct['FTA']\n",
    "\n",
    "player_name_worst_ft_direct, worst_ft_percentage_direct, ft_attempts_direct\n"
   ]
  }
 ],
 "metadata": {
  "kernelspec": {
   "display_name": "Python 3 (ipykernel)",
   "language": "python",
   "name": "python3"
  },
  "language_info": {
   "codemirror_mode": {
    "name": "ipython",
    "version": 3
   },
   "file_extension": ".py",
   "mimetype": "text/x-python",
   "name": "python",
   "nbconvert_exporter": "python",
   "pygments_lexer": "ipython3",
   "version": "3.11.5"
  }
 },
 "nbformat": 4,
 "nbformat_minor": 2
}
